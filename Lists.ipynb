{
 "cells": [
  {
   "cell_type": "markdown",
   "id": "5add4314-7b9d-426e-ae79-9e7c4a6fcc73",
   "metadata": {},
   "source": [
    "# Lists\n",
    "allow us to store and work with a *list* of objects"
   ]
  },
  {
   "cell_type": "code",
   "execution_count": 51,
   "id": "887d7c0d-cb59-4df5-8ed0-7c384798996b",
   "metadata": {},
   "outputs": [],
   "source": [
    "fruits = [\"apple\", \"mango\", \"blueberry\", \"peach\"]"
   ]
  },
  {
   "cell_type": "code",
   "execution_count": 52,
   "id": "63182245-eb78-4b95-afce-19ea37fe2306",
   "metadata": {},
   "outputs": [
    {
     "data": {
      "text/plain": [
       "['apple', 'mango', 'blueberry', 'peach']"
      ]
     },
     "execution_count": 52,
     "metadata": {},
     "output_type": "execute_result"
    }
   ],
   "source": [
    "fruits"
   ]
  },
  {
   "cell_type": "code",
   "execution_count": 53,
   "id": "ed621375-5adf-4d3a-9843-36ff7e2681aa",
   "metadata": {},
   "outputs": [],
   "source": [
    "any_object_infact = [[\"even\", \"other\", \"lists\"], 1, 2, 3, {\"also\": \"dicts\"}]"
   ]
  },
  {
   "cell_type": "code",
   "execution_count": 54,
   "id": "57f847df-e55d-4703-9ce1-fb733c6579d5",
   "metadata": {},
   "outputs": [
    {
     "data": {
      "text/plain": [
       "[['even', 'other', 'lists'], 1, 2, 3, {'also': 'dicts'}]"
      ]
     },
     "execution_count": 54,
     "metadata": {},
     "output_type": "execute_result"
    }
   ],
   "source": [
    "any_object_infact"
   ]
  },
  {
   "cell_type": "markdown",
   "id": "9917a518-6ed2-442b-9169-2cd8ff5f8ad2",
   "metadata": {},
   "source": [
    "<br>\n",
    "\n",
    "## 1. adding elements"
   ]
  },
  {
   "cell_type": "markdown",
   "id": "a9ed7563-5bd9-4178-967f-fc1d12c57fc6",
   "metadata": {},
   "source": [
    "to add a new element at **the end** of our list, we can use `append`"
   ]
  },
  {
   "cell_type": "code",
   "execution_count": 55,
   "id": "9362be2c-2770-4001-b3ad-aec44b1d40c6",
   "metadata": {},
   "outputs": [
    {
     "data": {
      "text/plain": [
       "['apple', 'mango', 'blueberry', 'peach', 'banana']"
      ]
     },
     "execution_count": 55,
     "metadata": {},
     "output_type": "execute_result"
    }
   ],
   "source": [
    "fruits.append(\"banana\")\n",
    "fruits"
   ]
  },
  {
   "cell_type": "markdown",
   "id": "032de769-b55f-4a23-8ae3-e5f3aff663ef",
   "metadata": {},
   "source": [
    "<br>\n",
    "\n",
    "to add **multiple new elements** at **the end** of our list, we can use extend<br>\n",
    "and pass to it the new elements as a list"
   ]
  },
  {
   "cell_type": "code",
   "execution_count": 56,
   "id": "75f99a7a-5af4-4069-b4be-5c6015bd3eed",
   "metadata": {},
   "outputs": [
    {
     "data": {
      "text/plain": [
       "['apple', 'mango', 'blueberry', 'peach', 'banana', 'melon', 'grape']"
      ]
     },
     "execution_count": 56,
     "metadata": {},
     "output_type": "execute_result"
    }
   ],
   "source": [
    "fruits.extend([\"melon\", \"grape\"])\n",
    "fruits"
   ]
  },
  {
   "cell_type": "markdown",
   "id": "750326da-8338-429a-91c7-fdfa00a97212",
   "metadata": {},
   "source": [
    "<br>\n",
    "\n",
    "to add a new element at a **specific location** in our list, we can use `insert`"
   ]
  },
  {
   "cell_type": "code",
   "execution_count": 57,
   "id": "5174f10e-8307-455f-9db2-4403026491de",
   "metadata": {},
   "outputs": [
    {
     "data": {
      "text/plain": [
       "['apple', 'kiwi', 'mango', 'blueberry', 'peach', 'banana', 'melon', 'grape']"
      ]
     },
     "execution_count": 57,
     "metadata": {},
     "output_type": "execute_result"
    }
   ],
   "source": [
    "fruits.insert(1, \"kiwi\")\n",
    "fruits"
   ]
  },
  {
   "cell_type": "markdown",
   "id": "16f7ebdd-1856-4d0d-bb26-b38eaa9bd083",
   "metadata": {},
   "source": [
    "<br>\n",
    "\n",
    "## 2. removing elements"
   ]
  },
  {
   "cell_type": "markdown",
   "id": "08105eea-f7b9-4b05-ae13-1b47c7b15931",
   "metadata": {},
   "source": [
    "to remove the element at **the end** of our list, we can use `pop`"
   ]
  },
  {
   "cell_type": "code",
   "execution_count": 58,
   "id": "3c49b8d8-16fb-47ba-afe4-71fd4aa2c322",
   "metadata": {},
   "outputs": [
    {
     "data": {
      "text/plain": [
       "['apple', 'kiwi', 'mango', 'blueberry', 'peach', 'banana', 'melon']"
      ]
     },
     "execution_count": 58,
     "metadata": {},
     "output_type": "execute_result"
    }
   ],
   "source": [
    "popped = fruits.pop()\n",
    "fruits"
   ]
  },
  {
   "cell_type": "code",
   "execution_count": 59,
   "id": "e1b93e60-e2b8-4eda-9c48-df319312cebf",
   "metadata": {},
   "outputs": [
    {
     "data": {
      "text/plain": [
       "'grape'"
      ]
     },
     "execution_count": 59,
     "metadata": {},
     "output_type": "execute_result"
    }
   ],
   "source": [
    "popped"
   ]
  },
  {
   "cell_type": "markdown",
   "id": "4c77e8ce-bad8-4717-bc92-c8baa23e7346",
   "metadata": {},
   "source": [
    "<br>\n",
    "\n",
    "to remove an element at a **specific index** we can pass an index argument to `pop`"
   ]
  },
  {
   "cell_type": "code",
   "execution_count": 60,
   "id": "dc8ea9a0-5ead-41e7-ba8e-046a8ea4485c",
   "metadata": {},
   "outputs": [
    {
     "data": {
      "text/plain": [
       "['apple', 'kiwi', 'blueberry', 'peach', 'banana', 'melon']"
      ]
     },
     "execution_count": 60,
     "metadata": {},
     "output_type": "execute_result"
    }
   ],
   "source": [
    "popped = fruits.pop(2)\n",
    "fruits"
   ]
  },
  {
   "cell_type": "code",
   "execution_count": 61,
   "id": "28bc7afb-c586-4462-b046-2a6df9b217b8",
   "metadata": {},
   "outputs": [
    {
     "data": {
      "text/plain": [
       "'mango'"
      ]
     },
     "execution_count": 61,
     "metadata": {},
     "output_type": "execute_result"
    }
   ],
   "source": [
    "popped"
   ]
  },
  {
   "cell_type": "markdown",
   "id": "b21e88b4-a926-4766-a59f-76843190ceea",
   "metadata": {},
   "source": [
    "<br>\n",
    "\n",
    "to remove a **specific element** without knowing its index, we can use `remove`"
   ]
  },
  {
   "cell_type": "code",
   "execution_count": 62,
   "id": "16dc6f5c-ff45-49cf-b96a-3424aebfffc6",
   "metadata": {},
   "outputs": [
    {
     "data": {
      "text/plain": [
       "['kiwi', 'blueberry', 'peach', 'banana', 'melon']"
      ]
     },
     "execution_count": 62,
     "metadata": {},
     "output_type": "execute_result"
    }
   ],
   "source": [
    "fruits.remove(\"apple\")\n",
    "fruits"
   ]
  },
  {
   "cell_type": "markdown",
   "id": "5e90588e-d3bb-4baf-9368-8d31e56d908c",
   "metadata": {},
   "source": [
    "<br>\n",
    "\n",
    "## 3. accessing the elements of lists"
   ]
  },
  {
   "cell_type": "markdown",
   "id": "76da5673-c0e9-4a04-9f9d-bb6f1fb908fb",
   "metadata": {},
   "source": [
    "### 3.1 by indexing"
   ]
  },
  {
   "cell_type": "code",
   "execution_count": 63,
   "id": "0e01e246-e622-436c-bf7f-1a4be726e03c",
   "metadata": {},
   "outputs": [
    {
     "data": {
      "text/plain": [
       "['kiwi', 'blueberry', 'peach', 'banana', 'melon']"
      ]
     },
     "execution_count": 63,
     "metadata": {},
     "output_type": "execute_result"
    }
   ],
   "source": [
    "fruits"
   ]
  },
  {
   "cell_type": "markdown",
   "id": "da4023a1-35c8-4887-9bc8-4fd5b53f5ead",
   "metadata": {},
   "source": [
    "starting with **0** we can access every list element by calling it by its position in the list"
   ]
  },
  {
   "cell_type": "code",
   "execution_count": 64,
   "id": "f1cfc27e-07f9-4ade-82d8-359fe36ed7fa",
   "metadata": {},
   "outputs": [
    {
     "data": {
      "text/plain": [
       "'kiwi'"
      ]
     },
     "execution_count": 64,
     "metadata": {},
     "output_type": "execute_result"
    }
   ],
   "source": [
    "fruits[0]"
   ]
  },
  {
   "cell_type": "markdown",
   "id": "3a37ed3f-e575-4a75-b607-3ee08dd5b928",
   "metadata": {},
   "source": [
    "we can also index with negative values which will give us values starting from the end of the list"
   ]
  },
  {
   "cell_type": "code",
   "execution_count": 65,
   "id": "ce8ee5c0-2b41-4b66-beba-85707deb4a6e",
   "metadata": {},
   "outputs": [
    {
     "data": {
      "text/plain": [
       "'melon'"
      ]
     },
     "execution_count": 65,
     "metadata": {},
     "output_type": "execute_result"
    }
   ],
   "source": [
    "fruits[-1]"
   ]
  },
  {
   "cell_type": "markdown",
   "id": "f99e6c66-0ad4-4219-b72a-8757329f6480",
   "metadata": {},
   "source": [
    "### 3.2 by slicing\n",
    "we can access multiple list elements by slicing the list from a certain start to end position with some step size<br>\n",
    "to better illustrate slicing we will create a list of numbers"
   ]
  },
  {
   "cell_type": "code",
   "execution_count": 68,
   "id": "80b9a530-c57f-472e-8f75-a7640ce8ba19",
   "metadata": {},
   "outputs": [
    {
     "data": {
      "text/plain": [
       "[0, 1, 2, 3, 4, 5, 6, 7, 8, 9, 10, 11, 12, 13, 14, 15, 16, 17, 18, 19]"
      ]
     },
     "execution_count": 68,
     "metadata": {},
     "output_type": "execute_result"
    }
   ],
   "source": [
    "nums = list(range(20))\n",
    "nums"
   ]
  },
  {
   "cell_type": "markdown",
   "id": "cfff9145-fc1a-4f74-9aad-9c621105150d",
   "metadata": {},
   "source": [
    "the slicing syntax is `nums[start:stop:stepsize]`"
   ]
  },
  {
   "cell_type": "code",
   "execution_count": 70,
   "id": "9339ce7b-44f6-45a9-9de4-c352cab47c05",
   "metadata": {},
   "outputs": [
    {
     "data": {
      "text/plain": [
       "[0, 2, 4, 6, 8, 10, 12, 14, 16, 18]"
      ]
     },
     "execution_count": 70,
     "metadata": {},
     "output_type": "execute_result"
    }
   ],
   "source": [
    "# slicing from start to end and taking every 2nd element\n",
    "nums[0:-1:2]"
   ]
  },
  {
   "cell_type": "code",
   "execution_count": 74,
   "id": "5bd30956-31c3-490d-a01f-6d06d2fe20f4",
   "metadata": {},
   "outputs": [
    {
     "data": {
      "text/plain": [
       "[19, 15, 11, 7, 3]"
      ]
     },
     "execution_count": 74,
     "metadata": {},
     "output_type": "execute_result"
    }
   ],
   "source": [
    "# slicing from end to start and taking every 4th element\n",
    "nums[-1:0:-4]"
   ]
  },
  {
   "cell_type": "markdown",
   "id": "ac5f321c-226f-449f-bec3-500ef1fff5ab",
   "metadata": {},
   "source": [
    "if start or end are not specified, python assumes<br>\n",
    "`0` for start and `len(list)` for end if the stepsize is **positive** and<br>\n",
    "`len(list)` for start and `0` for end if the stepsize is **negative**"
   ]
  },
  {
   "cell_type": "code",
   "execution_count": 78,
   "id": "6c878403-af05-4723-a667-786c2c432ea0",
   "metadata": {},
   "outputs": [
    {
     "data": {
      "text/plain": [
       "[19, 18, 17, 16, 15, 14, 13, 12, 11, 10, 9, 8, 7, 6, 5, 4, 3, 2, 1, 0]"
      ]
     },
     "execution_count": 78,
     "metadata": {},
     "output_type": "execute_result"
    }
   ],
   "source": [
    "# so this reverses the list\n",
    "nums[::-1]"
   ]
  },
  {
   "cell_type": "markdown",
   "id": "b76c83ca-7f7b-4182-9dda-9e2bc6352ea7",
   "metadata": {},
   "source": [
    "### 3.3 by iterating\n"
   ]
  },
  {
   "cell_type": "code",
   "execution_count": 79,
   "id": "a0ba77dc-6e72-4a99-93a7-05a42ebe9023",
   "metadata": {},
   "outputs": [
    {
     "name": "stdout",
     "output_type": "stream",
     "text": [
      "kiwi\n",
      "blueberry\n",
      "peach\n",
      "banana\n",
      "melon\n"
     ]
    }
   ],
   "source": [
    "for fruit in fruits:\n",
    "    print(fruit)"
   ]
  },
  {
   "cell_type": "markdown",
   "id": "3c5e2a26-a6c7-4e59-a273-4aa1944ed8d0",
   "metadata": {},
   "source": [
    "if we also want the indices of the list elements we can use `enumerate`"
   ]
  },
  {
   "cell_type": "code",
   "execution_count": 83,
   "id": "ff89c988-8b23-40ad-9258-07bff6fc02cc",
   "metadata": {},
   "outputs": [
    {
     "name": "stdout",
     "output_type": "stream",
     "text": [
      "0 a\n",
      "1 b\n",
      "2 peach\n",
      "3 banana\n",
      "4 melon\n"
     ]
    }
   ],
   "source": [
    "for idx, fruit in enumerate(fruits):\n",
    "    print(idx, fruit)"
   ]
  },
  {
   "cell_type": "markdown",
   "id": "cd0e86d5-f1e7-4dfa-8f3e-60ba3990ca02",
   "metadata": {},
   "source": [
    "<br>\n",
    "\n",
    "## 4. modifying the elements of lists"
   ]
  },
  {
   "cell_type": "code",
   "execution_count": 80,
   "id": "4194d817-e3f2-42c3-a5bb-5fae070d9fde",
   "metadata": {},
   "outputs": [
    {
     "data": {
      "text/plain": [
       "['kiwi', 'blueberry', 'peach', 'banana', 'melon']"
      ]
     },
     "execution_count": 80,
     "metadata": {},
     "output_type": "execute_result"
    }
   ],
   "source": [
    "fruits"
   ]
  },
  {
   "cell_type": "markdown",
   "id": "227e8ae1-4c7f-43e8-b3bc-1caa0e90c02a",
   "metadata": {},
   "source": [
    "### 4.1 by indexing"
   ]
  },
  {
   "cell_type": "code",
   "execution_count": 81,
   "id": "97a35b31-92a0-47a6-b724-329348c2f192",
   "metadata": {},
   "outputs": [
    {
     "data": {
      "text/plain": [
       "['blackberry', 'blueberry', 'peach', 'banana', 'melon']"
      ]
     },
     "execution_count": 81,
     "metadata": {},
     "output_type": "execute_result"
    }
   ],
   "source": [
    "fruits[0] = \"blackberry\"\n",
    "fruits"
   ]
  },
  {
   "cell_type": "code",
   "execution_count": 82,
   "id": "589a8f52-23d7-4f68-968a-f3947c763be8",
   "metadata": {},
   "outputs": [
    {
     "data": {
      "text/plain": [
       "['a', 'b', 'peach', 'banana', 'melon']"
      ]
     },
     "execution_count": 82,
     "metadata": {},
     "output_type": "execute_result"
    }
   ],
   "source": [
    "fruits[0:2] = [\"a\", \"b\"]\n",
    "fruits"
   ]
  },
  {
   "cell_type": "markdown",
   "id": "71d5a572-9598-4954-b912-44e1408a2b35",
   "metadata": {},
   "source": [
    "<br>\n",
    "\n",
    "## 5. applying functions to lists"
   ]
  },
  {
   "cell_type": "code",
   "execution_count": 85,
   "id": "e012883e-3f7a-46b8-9e6e-0a1f1aee5e33",
   "metadata": {},
   "outputs": [
    {
     "data": {
      "text/plain": [
       "[10, 11, 12, 13, 14, 15, 16, 17, 18, 19]"
      ]
     },
     "execution_count": 85,
     "metadata": {},
     "output_type": "execute_result"
    }
   ],
   "source": [
    "nums = list(range(10,20))\n",
    "nums"
   ]
  },
  {
   "cell_type": "markdown",
   "id": "2e33de78-4554-48b2-8916-bb375970699e",
   "metadata": {},
   "source": [
    "### 5.1 inplace"
   ]
  },
  {
   "cell_type": "code",
   "execution_count": 87,
   "id": "8c44b748-a118-47ad-985c-3bcf621b40a9",
   "metadata": {},
   "outputs": [],
   "source": [
    "for idx, num in enumerate(nums):\n",
    "    nums[idx] = num + 2"
   ]
  },
  {
   "cell_type": "code",
   "execution_count": 88,
   "id": "9fef6b55-b8b7-44d3-9c89-760126c222f1",
   "metadata": {},
   "outputs": [
    {
     "data": {
      "text/plain": [
       "[12, 13, 14, 15, 16, 17, 18, 19, 20, 21]"
      ]
     },
     "execution_count": 88,
     "metadata": {},
     "output_type": "execute_result"
    }
   ],
   "source": [
    "nums"
   ]
  },
  {
   "cell_type": "markdown",
   "id": "062e5caa-c46a-4a32-b531-bb1aa3634501",
   "metadata": {},
   "source": [
    "### 5.2 list comprehension"
   ]
  },
  {
   "cell_type": "code",
   "execution_count": 89,
   "id": "89adbf98-c279-4953-a87d-3ad07c7429b4",
   "metadata": {},
   "outputs": [],
   "source": [
    "nums = list(range(10,20))"
   ]
  },
  {
   "cell_type": "code",
   "execution_count": 90,
   "id": "f673d3dc-c119-408a-ac9b-52eca0f654a7",
   "metadata": {},
   "outputs": [
    {
     "data": {
      "text/plain": [
       "[12, 13, 14, 15, 16, 17, 18, 19, 20, 21]"
      ]
     },
     "execution_count": 90,
     "metadata": {},
     "output_type": "execute_result"
    }
   ],
   "source": [
    "nums_plus_two = [num + 2 for num in nums]\n",
    "nums_plus_two"
   ]
  },
  {
   "cell_type": "markdown",
   "id": "0612e7cb-6126-498c-9bff-19769314e47b",
   "metadata": {
    "tags": []
   },
   "source": [
    "### 5.3 map"
   ]
  },
  {
   "cell_type": "code",
   "execution_count": 91,
   "id": "ea2c75d5-31d1-4307-a42a-c4ffe2a8d481",
   "metadata": {},
   "outputs": [],
   "source": [
    "nums = list(range(10,20))"
   ]
  },
  {
   "cell_type": "code",
   "execution_count": 93,
   "id": "418c1ae5-d4be-4a95-b716-695ea04356ea",
   "metadata": {},
   "outputs": [
    {
     "data": {
      "text/plain": [
       "[12, 13, 14, 15, 16, 17, 18, 19, 20, 21]"
      ]
     },
     "execution_count": 93,
     "metadata": {},
     "output_type": "execute_result"
    }
   ],
   "source": [
    "nums_plus_two = list(map(lambda x: x+2, nums))\n",
    "nums_plus_two"
   ]
  },
  {
   "cell_type": "markdown",
   "id": "c4f7e64b-b5c0-4c98-a195-ef4158fe0524",
   "metadata": {},
   "source": [
    "<br>\n",
    "\n",
    "## 6. Zip\n",
    "If we want to combine the values of 2 lists in a new list via some function we can use `zip`"
   ]
  },
  {
   "cell_type": "code",
   "execution_count": 95,
   "id": "56c2bcd2-7a01-4629-b7ab-1b2f59cce967",
   "metadata": {},
   "outputs": [],
   "source": [
    "nums = [1, 2, 3, 4]\n",
    "words = [\"one\", \"two\", \"three\"]"
   ]
  },
  {
   "cell_type": "code",
   "execution_count": 98,
   "id": "2b723f29-a93a-43ca-984f-a17fbd638d4b",
   "metadata": {},
   "outputs": [
    {
     "data": {
      "text/plain": [
       "['1one', '2two', '3three']"
      ]
     },
     "execution_count": 98,
     "metadata": {},
     "output_type": "execute_result"
    }
   ],
   "source": [
    "# here our function is just a simple concatenation\n",
    "[str(num) + word for num, word in zip(nums, words)]"
   ]
  }
 ],
 "metadata": {
  "kernelspec": {
   "display_name": "Python 3 (ipykernel)",
   "language": "python",
   "name": "python3"
  },
  "language_info": {
   "codemirror_mode": {
    "name": "ipython",
    "version": 3
   },
   "file_extension": ".py",
   "mimetype": "text/x-python",
   "name": "python",
   "nbconvert_exporter": "python",
   "pygments_lexer": "ipython3",
   "version": "3.10.4"
  }
 },
 "nbformat": 4,
 "nbformat_minor": 5
}
